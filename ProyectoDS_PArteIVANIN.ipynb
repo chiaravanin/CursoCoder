{
  "nbformat": 4,
  "nbformat_minor": 0,
  "metadata": {
    "colab": {
      "provenance": [],
      "authorship_tag": "ABX9TyMWSJZOvtMLD36uSQUReCJA",
      "include_colab_link": true
    },
    "kernelspec": {
      "name": "python3",
      "display_name": "Python 3"
    },
    "language_info": {
      "name": "python"
    }
  },
  "cells": [
    {
      "cell_type": "markdown",
      "metadata": {
        "id": "view-in-github",
        "colab_type": "text"
      },
      "source": [
        "<a href=\"https://colab.research.google.com/github/chiaravanin/CursoCoder/blob/main/ProyectoDS_PArteIVANIN.ipynb\" target=\"_parent\"><img src=\"https://colab.research.google.com/assets/colab-badge.svg\" alt=\"Open In Colab\"/></a>"
      ]
    },
    {
      "cell_type": "code",
      "execution_count": null,
      "metadata": {
        "id": "J_guUK3AOhDL"
      },
      "outputs": [],
      "source": []
    },
    {
      "cell_type": "markdown",
      "source": [
        "PROYECTO DATA SCIENCE - PARTE I"
      ],
      "metadata": {
        "id": "U1SFBrBROhuC"
      }
    },
    {
      "cell_type": "markdown",
      "source": [
        "**ABSTRACT:**\n",
        "Este proyecto analiza un dataset de clientes de un banco, incluyendo información sociodemográfica, productos contratados, actividad, digitalización y días de uso. El objetivo es explorar patrones de comportamiento, segmentación, identificar relaciones entre productos y características de clientes, y proponer insights que puedan ayudar a la institución a mejorar su estrategia comercial y de retención. A través de visualizaciones interactivas en Python se buscan responder preguntas sobre la distribución de clientes por provincia, edad y género, la adopción de productos financieros, la relación entre actividad digital y cantidad de productos, y el impacto del saldo deudor y del último uso de productos sobre la cartera total de clientes. Para ello se aplican técnicas de análisis univariado, bivariado y multivariado, utilizando herramientas como Matplotlib, Seaborn y pandas.\n"
      ],
      "metadata": {
        "id": "-1XwO7VvVkmn"
      }
    },
    {
      "cell_type": "markdown",
      "source": [
        "***Preguntas / Hipótesis de interés***\n",
        "*Distribución de clientes*\n",
        "¿Qué provincias concentran mayor cantidad de clientes?\n",
        "¿Cómo se distribuye la cartera según rangos etarios y género?\n",
        "¿Existen diferencias en la cantidad de productos contratados según la provincia o el segmento de cartera?\n",
        "*Productos bancarios*\n",
        "¿Qué porcentaje de clientes tiene tarjeta de crédito, caja de ahorro en pesos, dólares o caja de seguridad?\n",
        "¿La tenencia de seguros o plazos fijos varía según la edad o el segmento de cartera?\n",
        "¿Los clientes con mayor cantidad de productos presentan mayor saldo deudor?\n",
        "\n",
        "*Digitalización y uso*\n",
        "¿Qué proporción de clientes utiliza canales digitales?\n",
        "¿Los clientes digitales realizan un uso más frecuente de productos en comparación con los no digitales?\n",
        "¿La adopción digital cambia significativamente entre provincias o grupos etarios?\n",
        "\n",
        "*Riesgo y endeudamiento*\n",
        "¿Cómo se distribuye el saldo deudor entre los distintos segmentos de cartera?\n",
        "¿Los clientes activos difieren en su nivel de deuda respecto a los inactivos?\n",
        "¿Existen grupos de mayor riesgo (alto saldo deudor + baja cantidad de productos + inactividad)?"
      ],
      "metadata": {
        "id": "7m9wIuFTVrDE"
      }
    },
    {
      "cell_type": "code",
      "source": [
        "from google.colab import drive"
      ],
      "metadata": {
        "id": "vkDKabvRS5LN"
      },
      "execution_count": 19,
      "outputs": []
    },
    {
      "cell_type": "code",
      "source": [
        "import pandas as pd\n"
      ],
      "metadata": {
        "id": "vr7qfKXeOvD4"
      },
      "execution_count": 20,
      "outputs": []
    },
    {
      "cell_type": "code",
      "source": [
        "# 1. Montar Drive en /content/drive\n",
        "drive.mount('/content/drive')"
      ],
      "metadata": {
        "colab": {
          "base_uri": "https://localhost:8080/"
        },
        "id": "IIwvPMxMTkRR",
        "outputId": "257f67f1-e41d-45b5-de2c-631b7a4467e2"
      },
      "execution_count": 21,
      "outputs": [
        {
          "output_type": "stream",
          "name": "stdout",
          "text": [
            "Drive already mounted at /content/drive; to attempt to forcibly remount, call drive.mount(\"/content/drive\", force_remount=True).\n"
          ]
        }
      ]
    },
    {
      "cell_type": "markdown",
      "source": [
        "Mi Data Frame superaba el limite de tamaño de GitHUb por eso tuve importarlo desde mi google drive"
      ],
      "metadata": {
        "id": "T_3-6GMib5Uh"
      }
    },
    {
      "cell_type": "code",
      "source": [
        "# 2. La ruta del archivo\n",
        "url = '/content/drive/MyDrive/Coderhouse/DF_ChiaraVanin.csv'\n",
        "\n",
        "# 3. Leer el CSV con pandas\n",
        "df = pd.read_csv(url, sep=';')\n",
        "\n",
        "# 4. Mostrar las primeras filas\n",
        "df.head(5)"
      ],
      "metadata": {
        "colab": {
          "base_uri": "https://localhost:8080/",
          "height": 226
        },
        "id": "DIrYE14UTn38",
        "outputId": "e79e8e9b-676b-42fd-a56d-1fda67f6b20b"
      },
      "execution_count": 22,
      "outputs": [
        {
          "output_type": "execute_result",
          "data": {
            "text/plain": [
              "   CANTIDAD_CLIENTES   PROVINCIA IND_ACTIVO  CANTIDAD_PRODUCTOS SEGURO  \\\n",
              "0                  1     MENDOZA     Activo                   1     No   \n",
              "1                  1     CORDOBA     Activo                   6     Si   \n",
              "2                  1    SAN JUAN   Inactivo                   2     No   \n",
              "3                  1  SANTA CRUZ     Activo                   2     No   \n",
              "4                  3  CORRIENTES     Activo                   2     No   \n",
              "\n",
              "  CAJA_SEGURIDAD CAJA_AHORRO_USD TJ_CREDITO PLAZOS_FIJOS CTA_CTE CAJA_AHORRO  \\\n",
              "0             No              No         No           No      No          Si   \n",
              "1             No              Si         Si           No      Si          Si   \n",
              "2             No              No         No           No      No          Si   \n",
              "3             No              No         Si           No      No          Si   \n",
              "4             No              No         No           Si      No          Si   \n",
              "\n",
              "     Rango_Edad_Nuevo Segmentacion_Carteras     GÉNERO  Segmento_Tarjeta  \\\n",
              "0  Entre 29 y 38 Años       Cartera Haberes  MASCULINO  4 -Internacional   \n",
              "1  Entre 18 y 28 Años       Cartera Haberes   FEMENINO  4 -Internacional   \n",
              "2  Entre 59 y 68 Años       Cartera Abierta  MASCULINO  4 -Internacional   \n",
              "3  Entre 39 y 48 Años       Cartera Abierta  MASCULINO  4 -Internacional   \n",
              "4  Entre 39 y 48 Años   Cartera Previsional   FEMENINO               NaN   \n",
              "\n",
              "  IND_DIGITAL  ULTIMO_USO  SALDO_DEUDOR  \n",
              "0           Y        62.0           0.0  \n",
              "1           Y         0.0           0.0  \n",
              "2           Y       153.0           0.0  \n",
              "3           Y        28.0           0.0  \n",
              "4           N         3.0           0.0  "
            ],
            "text/html": [
              "\n",
              "  <div id=\"df-b08a1135-3efa-49ea-8269-fff247410a74\" class=\"colab-df-container\">\n",
              "    <div>\n",
              "<style scoped>\n",
              "    .dataframe tbody tr th:only-of-type {\n",
              "        vertical-align: middle;\n",
              "    }\n",
              "\n",
              "    .dataframe tbody tr th {\n",
              "        vertical-align: top;\n",
              "    }\n",
              "\n",
              "    .dataframe thead th {\n",
              "        text-align: right;\n",
              "    }\n",
              "</style>\n",
              "<table border=\"1\" class=\"dataframe\">\n",
              "  <thead>\n",
              "    <tr style=\"text-align: right;\">\n",
              "      <th></th>\n",
              "      <th>CANTIDAD_CLIENTES</th>\n",
              "      <th>PROVINCIA</th>\n",
              "      <th>IND_ACTIVO</th>\n",
              "      <th>CANTIDAD_PRODUCTOS</th>\n",
              "      <th>SEGURO</th>\n",
              "      <th>CAJA_SEGURIDAD</th>\n",
              "      <th>CAJA_AHORRO_USD</th>\n",
              "      <th>TJ_CREDITO</th>\n",
              "      <th>PLAZOS_FIJOS</th>\n",
              "      <th>CTA_CTE</th>\n",
              "      <th>CAJA_AHORRO</th>\n",
              "      <th>Rango_Edad_Nuevo</th>\n",
              "      <th>Segmentacion_Carteras</th>\n",
              "      <th>GÉNERO</th>\n",
              "      <th>Segmento_Tarjeta</th>\n",
              "      <th>IND_DIGITAL</th>\n",
              "      <th>ULTIMO_USO</th>\n",
              "      <th>SALDO_DEUDOR</th>\n",
              "    </tr>\n",
              "  </thead>\n",
              "  <tbody>\n",
              "    <tr>\n",
              "      <th>0</th>\n",
              "      <td>1</td>\n",
              "      <td>MENDOZA</td>\n",
              "      <td>Activo</td>\n",
              "      <td>1</td>\n",
              "      <td>No</td>\n",
              "      <td>No</td>\n",
              "      <td>No</td>\n",
              "      <td>No</td>\n",
              "      <td>No</td>\n",
              "      <td>No</td>\n",
              "      <td>Si</td>\n",
              "      <td>Entre 29 y 38 Años</td>\n",
              "      <td>Cartera Haberes</td>\n",
              "      <td>MASCULINO</td>\n",
              "      <td>4 -Internacional</td>\n",
              "      <td>Y</td>\n",
              "      <td>62.0</td>\n",
              "      <td>0.0</td>\n",
              "    </tr>\n",
              "    <tr>\n",
              "      <th>1</th>\n",
              "      <td>1</td>\n",
              "      <td>CORDOBA</td>\n",
              "      <td>Activo</td>\n",
              "      <td>6</td>\n",
              "      <td>Si</td>\n",
              "      <td>No</td>\n",
              "      <td>Si</td>\n",
              "      <td>Si</td>\n",
              "      <td>No</td>\n",
              "      <td>Si</td>\n",
              "      <td>Si</td>\n",
              "      <td>Entre 18 y 28 Años</td>\n",
              "      <td>Cartera Haberes</td>\n",
              "      <td>FEMENINO</td>\n",
              "      <td>4 -Internacional</td>\n",
              "      <td>Y</td>\n",
              "      <td>0.0</td>\n",
              "      <td>0.0</td>\n",
              "    </tr>\n",
              "    <tr>\n",
              "      <th>2</th>\n",
              "      <td>1</td>\n",
              "      <td>SAN JUAN</td>\n",
              "      <td>Inactivo</td>\n",
              "      <td>2</td>\n",
              "      <td>No</td>\n",
              "      <td>No</td>\n",
              "      <td>No</td>\n",
              "      <td>No</td>\n",
              "      <td>No</td>\n",
              "      <td>No</td>\n",
              "      <td>Si</td>\n",
              "      <td>Entre 59 y 68 Años</td>\n",
              "      <td>Cartera Abierta</td>\n",
              "      <td>MASCULINO</td>\n",
              "      <td>4 -Internacional</td>\n",
              "      <td>Y</td>\n",
              "      <td>153.0</td>\n",
              "      <td>0.0</td>\n",
              "    </tr>\n",
              "    <tr>\n",
              "      <th>3</th>\n",
              "      <td>1</td>\n",
              "      <td>SANTA CRUZ</td>\n",
              "      <td>Activo</td>\n",
              "      <td>2</td>\n",
              "      <td>No</td>\n",
              "      <td>No</td>\n",
              "      <td>No</td>\n",
              "      <td>Si</td>\n",
              "      <td>No</td>\n",
              "      <td>No</td>\n",
              "      <td>Si</td>\n",
              "      <td>Entre 39 y 48 Años</td>\n",
              "      <td>Cartera Abierta</td>\n",
              "      <td>MASCULINO</td>\n",
              "      <td>4 -Internacional</td>\n",
              "      <td>Y</td>\n",
              "      <td>28.0</td>\n",
              "      <td>0.0</td>\n",
              "    </tr>\n",
              "    <tr>\n",
              "      <th>4</th>\n",
              "      <td>3</td>\n",
              "      <td>CORRIENTES</td>\n",
              "      <td>Activo</td>\n",
              "      <td>2</td>\n",
              "      <td>No</td>\n",
              "      <td>No</td>\n",
              "      <td>No</td>\n",
              "      <td>No</td>\n",
              "      <td>Si</td>\n",
              "      <td>No</td>\n",
              "      <td>Si</td>\n",
              "      <td>Entre 39 y 48 Años</td>\n",
              "      <td>Cartera Previsional</td>\n",
              "      <td>FEMENINO</td>\n",
              "      <td>NaN</td>\n",
              "      <td>N</td>\n",
              "      <td>3.0</td>\n",
              "      <td>0.0</td>\n",
              "    </tr>\n",
              "  </tbody>\n",
              "</table>\n",
              "</div>\n",
              "    <div class=\"colab-df-buttons\">\n",
              "\n",
              "  <div class=\"colab-df-container\">\n",
              "    <button class=\"colab-df-convert\" onclick=\"convertToInteractive('df-b08a1135-3efa-49ea-8269-fff247410a74')\"\n",
              "            title=\"Convert this dataframe to an interactive table.\"\n",
              "            style=\"display:none;\">\n",
              "\n",
              "  <svg xmlns=\"http://www.w3.org/2000/svg\" height=\"24px\" viewBox=\"0 -960 960 960\">\n",
              "    <path d=\"M120-120v-720h720v720H120Zm60-500h600v-160H180v160Zm220 220h160v-160H400v160Zm0 220h160v-160H400v160ZM180-400h160v-160H180v160Zm440 0h160v-160H620v160ZM180-180h160v-160H180v160Zm440 0h160v-160H620v160Z\"/>\n",
              "  </svg>\n",
              "    </button>\n",
              "\n",
              "  <style>\n",
              "    .colab-df-container {\n",
              "      display:flex;\n",
              "      gap: 12px;\n",
              "    }\n",
              "\n",
              "    .colab-df-convert {\n",
              "      background-color: #E8F0FE;\n",
              "      border: none;\n",
              "      border-radius: 50%;\n",
              "      cursor: pointer;\n",
              "      display: none;\n",
              "      fill: #1967D2;\n",
              "      height: 32px;\n",
              "      padding: 0 0 0 0;\n",
              "      width: 32px;\n",
              "    }\n",
              "\n",
              "    .colab-df-convert:hover {\n",
              "      background-color: #E2EBFA;\n",
              "      box-shadow: 0px 1px 2px rgba(60, 64, 67, 0.3), 0px 1px 3px 1px rgba(60, 64, 67, 0.15);\n",
              "      fill: #174EA6;\n",
              "    }\n",
              "\n",
              "    .colab-df-buttons div {\n",
              "      margin-bottom: 4px;\n",
              "    }\n",
              "\n",
              "    [theme=dark] .colab-df-convert {\n",
              "      background-color: #3B4455;\n",
              "      fill: #D2E3FC;\n",
              "    }\n",
              "\n",
              "    [theme=dark] .colab-df-convert:hover {\n",
              "      background-color: #434B5C;\n",
              "      box-shadow: 0px 1px 3px 1px rgba(0, 0, 0, 0.15);\n",
              "      filter: drop-shadow(0px 1px 2px rgba(0, 0, 0, 0.3));\n",
              "      fill: #FFFFFF;\n",
              "    }\n",
              "  </style>\n",
              "\n",
              "    <script>\n",
              "      const buttonEl =\n",
              "        document.querySelector('#df-b08a1135-3efa-49ea-8269-fff247410a74 button.colab-df-convert');\n",
              "      buttonEl.style.display =\n",
              "        google.colab.kernel.accessAllowed ? 'block' : 'none';\n",
              "\n",
              "      async function convertToInteractive(key) {\n",
              "        const element = document.querySelector('#df-b08a1135-3efa-49ea-8269-fff247410a74');\n",
              "        const dataTable =\n",
              "          await google.colab.kernel.invokeFunction('convertToInteractive',\n",
              "                                                    [key], {});\n",
              "        if (!dataTable) return;\n",
              "\n",
              "        const docLinkHtml = 'Like what you see? Visit the ' +\n",
              "          '<a target=\"_blank\" href=https://colab.research.google.com/notebooks/data_table.ipynb>data table notebook</a>'\n",
              "          + ' to learn more about interactive tables.';\n",
              "        element.innerHTML = '';\n",
              "        dataTable['output_type'] = 'display_data';\n",
              "        await google.colab.output.renderOutput(dataTable, element);\n",
              "        const docLink = document.createElement('div');\n",
              "        docLink.innerHTML = docLinkHtml;\n",
              "        element.appendChild(docLink);\n",
              "      }\n",
              "    </script>\n",
              "  </div>\n",
              "\n",
              "\n",
              "    <div id=\"df-bf2fab05-5c78-472a-9d9d-220c4165011b\">\n",
              "      <button class=\"colab-df-quickchart\" onclick=\"quickchart('df-bf2fab05-5c78-472a-9d9d-220c4165011b')\"\n",
              "                title=\"Suggest charts\"\n",
              "                style=\"display:none;\">\n",
              "\n",
              "<svg xmlns=\"http://www.w3.org/2000/svg\" height=\"24px\"viewBox=\"0 0 24 24\"\n",
              "     width=\"24px\">\n",
              "    <g>\n",
              "        <path d=\"M19 3H5c-1.1 0-2 .9-2 2v14c0 1.1.9 2 2 2h14c1.1 0 2-.9 2-2V5c0-1.1-.9-2-2-2zM9 17H7v-7h2v7zm4 0h-2V7h2v10zm4 0h-2v-4h2v4z\"/>\n",
              "    </g>\n",
              "</svg>\n",
              "      </button>\n",
              "\n",
              "<style>\n",
              "  .colab-df-quickchart {\n",
              "      --bg-color: #E8F0FE;\n",
              "      --fill-color: #1967D2;\n",
              "      --hover-bg-color: #E2EBFA;\n",
              "      --hover-fill-color: #174EA6;\n",
              "      --disabled-fill-color: #AAA;\n",
              "      --disabled-bg-color: #DDD;\n",
              "  }\n",
              "\n",
              "  [theme=dark] .colab-df-quickchart {\n",
              "      --bg-color: #3B4455;\n",
              "      --fill-color: #D2E3FC;\n",
              "      --hover-bg-color: #434B5C;\n",
              "      --hover-fill-color: #FFFFFF;\n",
              "      --disabled-bg-color: #3B4455;\n",
              "      --disabled-fill-color: #666;\n",
              "  }\n",
              "\n",
              "  .colab-df-quickchart {\n",
              "    background-color: var(--bg-color);\n",
              "    border: none;\n",
              "    border-radius: 50%;\n",
              "    cursor: pointer;\n",
              "    display: none;\n",
              "    fill: var(--fill-color);\n",
              "    height: 32px;\n",
              "    padding: 0;\n",
              "    width: 32px;\n",
              "  }\n",
              "\n",
              "  .colab-df-quickchart:hover {\n",
              "    background-color: var(--hover-bg-color);\n",
              "    box-shadow: 0 1px 2px rgba(60, 64, 67, 0.3), 0 1px 3px 1px rgba(60, 64, 67, 0.15);\n",
              "    fill: var(--button-hover-fill-color);\n",
              "  }\n",
              "\n",
              "  .colab-df-quickchart-complete:disabled,\n",
              "  .colab-df-quickchart-complete:disabled:hover {\n",
              "    background-color: var(--disabled-bg-color);\n",
              "    fill: var(--disabled-fill-color);\n",
              "    box-shadow: none;\n",
              "  }\n",
              "\n",
              "  .colab-df-spinner {\n",
              "    border: 2px solid var(--fill-color);\n",
              "    border-color: transparent;\n",
              "    border-bottom-color: var(--fill-color);\n",
              "    animation:\n",
              "      spin 1s steps(1) infinite;\n",
              "  }\n",
              "\n",
              "  @keyframes spin {\n",
              "    0% {\n",
              "      border-color: transparent;\n",
              "      border-bottom-color: var(--fill-color);\n",
              "      border-left-color: var(--fill-color);\n",
              "    }\n",
              "    20% {\n",
              "      border-color: transparent;\n",
              "      border-left-color: var(--fill-color);\n",
              "      border-top-color: var(--fill-color);\n",
              "    }\n",
              "    30% {\n",
              "      border-color: transparent;\n",
              "      border-left-color: var(--fill-color);\n",
              "      border-top-color: var(--fill-color);\n",
              "      border-right-color: var(--fill-color);\n",
              "    }\n",
              "    40% {\n",
              "      border-color: transparent;\n",
              "      border-right-color: var(--fill-color);\n",
              "      border-top-color: var(--fill-color);\n",
              "    }\n",
              "    60% {\n",
              "      border-color: transparent;\n",
              "      border-right-color: var(--fill-color);\n",
              "    }\n",
              "    80% {\n",
              "      border-color: transparent;\n",
              "      border-right-color: var(--fill-color);\n",
              "      border-bottom-color: var(--fill-color);\n",
              "    }\n",
              "    90% {\n",
              "      border-color: transparent;\n",
              "      border-bottom-color: var(--fill-color);\n",
              "    }\n",
              "  }\n",
              "</style>\n",
              "\n",
              "      <script>\n",
              "        async function quickchart(key) {\n",
              "          const quickchartButtonEl =\n",
              "            document.querySelector('#' + key + ' button');\n",
              "          quickchartButtonEl.disabled = true;  // To prevent multiple clicks.\n",
              "          quickchartButtonEl.classList.add('colab-df-spinner');\n",
              "          try {\n",
              "            const charts = await google.colab.kernel.invokeFunction(\n",
              "                'suggestCharts', [key], {});\n",
              "          } catch (error) {\n",
              "            console.error('Error during call to suggestCharts:', error);\n",
              "          }\n",
              "          quickchartButtonEl.classList.remove('colab-df-spinner');\n",
              "          quickchartButtonEl.classList.add('colab-df-quickchart-complete');\n",
              "        }\n",
              "        (() => {\n",
              "          let quickchartButtonEl =\n",
              "            document.querySelector('#df-bf2fab05-5c78-472a-9d9d-220c4165011b button');\n",
              "          quickchartButtonEl.style.display =\n",
              "            google.colab.kernel.accessAllowed ? 'block' : 'none';\n",
              "        })();\n",
              "      </script>\n",
              "    </div>\n",
              "\n",
              "    </div>\n",
              "  </div>\n"
            ],
            "application/vnd.google.colaboratory.intrinsic+json": {
              "type": "dataframe",
              "variable_name": "df"
            }
          },
          "metadata": {},
          "execution_count": 22
        }
      ]
    },
    {
      "cell_type": "code",
      "source": [
        "df.shape #Tamaño de mi Data Frame"
      ],
      "metadata": {
        "colab": {
          "base_uri": "https://localhost:8080/"
        },
        "id": "MTklGM5AZNGU",
        "outputId": "cccd543a-9104-4177-bf0a-24a068cd2b9f"
      },
      "execution_count": 23,
      "outputs": [
        {
          "output_type": "execute_result",
          "data": {
            "text/plain": [
              "(1257673, 18)"
            ]
          },
          "metadata": {},
          "execution_count": 23
        }
      ]
    },
    {
      "cell_type": "code",
      "source": [
        "df.info()"
      ],
      "metadata": {
        "colab": {
          "base_uri": "https://localhost:8080/"
        },
        "id": "oEKTgrXMaNw-",
        "outputId": "901f72ed-c7da-4a3e-8985-42af40920631"
      },
      "execution_count": 24,
      "outputs": [
        {
          "output_type": "stream",
          "name": "stdout",
          "text": [
            "<class 'pandas.core.frame.DataFrame'>\n",
            "RangeIndex: 1257673 entries, 0 to 1257672\n",
            "Data columns (total 18 columns):\n",
            " #   Column                 Non-Null Count    Dtype  \n",
            "---  ------                 --------------    -----  \n",
            " 0   CANTIDAD_CLIENTES      1257673 non-null  int64  \n",
            " 1   PROVINCIA              1257673 non-null  object \n",
            " 2   IND_ACTIVO             1257673 non-null  object \n",
            " 3   CANTIDAD_PRODUCTOS     1257673 non-null  int64  \n",
            " 4   SEGURO                 1257673 non-null  object \n",
            " 5   CAJA_SEGURIDAD         1257673 non-null  object \n",
            " 6   CAJA_AHORRO_USD        1257673 non-null  object \n",
            " 7   TJ_CREDITO             1257673 non-null  object \n",
            " 8   PLAZOS_FIJOS           1257673 non-null  object \n",
            " 9   CTA_CTE                1257673 non-null  object \n",
            " 10  CAJA_AHORRO            1257673 non-null  object \n",
            " 11  Rango_Edad_Nuevo       1257673 non-null  object \n",
            " 12  Segmentacion_Carteras  1231339 non-null  object \n",
            " 13  GÉNERO                 1257662 non-null  object \n",
            " 14  Segmento_Tarjeta       447802 non-null   object \n",
            " 15  IND_DIGITAL            1257673 non-null  object \n",
            " 16  ULTIMO_USO             1253797 non-null  float64\n",
            " 17  SALDO_DEUDOR           1257673 non-null  float64\n",
            "dtypes: float64(2), int64(2), object(14)\n",
            "memory usage: 172.7+ MB\n"
          ]
        }
      ]
    },
    {
      "cell_type": "code",
      "source": [
        "df.isnull().sum()\n"
      ],
      "metadata": {
        "id": "H6_HcXCIbIII",
        "outputId": "a76096b7-91fd-42e9-aa90-f8c23726578b",
        "colab": {
          "base_uri": "https://localhost:8080/",
          "height": 648
        }
      },
      "execution_count": 25,
      "outputs": [
        {
          "output_type": "execute_result",
          "data": {
            "text/plain": [
              "CANTIDAD_CLIENTES             0\n",
              "PROVINCIA                     0\n",
              "IND_ACTIVO                    0\n",
              "CANTIDAD_PRODUCTOS            0\n",
              "SEGURO                        0\n",
              "CAJA_SEGURIDAD                0\n",
              "CAJA_AHORRO_USD               0\n",
              "TJ_CREDITO                    0\n",
              "PLAZOS_FIJOS                  0\n",
              "CTA_CTE                       0\n",
              "CAJA_AHORRO                   0\n",
              "Rango_Edad_Nuevo              0\n",
              "Segmentacion_Carteras     26334\n",
              "GÉNERO                       11\n",
              "Segmento_Tarjeta         809871\n",
              "IND_DIGITAL                   0\n",
              "ULTIMO_USO                 3876\n",
              "SALDO_DEUDOR                  0\n",
              "dtype: int64"
            ],
            "text/html": [
              "<div>\n",
              "<style scoped>\n",
              "    .dataframe tbody tr th:only-of-type {\n",
              "        vertical-align: middle;\n",
              "    }\n",
              "\n",
              "    .dataframe tbody tr th {\n",
              "        vertical-align: top;\n",
              "    }\n",
              "\n",
              "    .dataframe thead th {\n",
              "        text-align: right;\n",
              "    }\n",
              "</style>\n",
              "<table border=\"1\" class=\"dataframe\">\n",
              "  <thead>\n",
              "    <tr style=\"text-align: right;\">\n",
              "      <th></th>\n",
              "      <th>0</th>\n",
              "    </tr>\n",
              "  </thead>\n",
              "  <tbody>\n",
              "    <tr>\n",
              "      <th>CANTIDAD_CLIENTES</th>\n",
              "      <td>0</td>\n",
              "    </tr>\n",
              "    <tr>\n",
              "      <th>PROVINCIA</th>\n",
              "      <td>0</td>\n",
              "    </tr>\n",
              "    <tr>\n",
              "      <th>IND_ACTIVO</th>\n",
              "      <td>0</td>\n",
              "    </tr>\n",
              "    <tr>\n",
              "      <th>CANTIDAD_PRODUCTOS</th>\n",
              "      <td>0</td>\n",
              "    </tr>\n",
              "    <tr>\n",
              "      <th>SEGURO</th>\n",
              "      <td>0</td>\n",
              "    </tr>\n",
              "    <tr>\n",
              "      <th>CAJA_SEGURIDAD</th>\n",
              "      <td>0</td>\n",
              "    </tr>\n",
              "    <tr>\n",
              "      <th>CAJA_AHORRO_USD</th>\n",
              "      <td>0</td>\n",
              "    </tr>\n",
              "    <tr>\n",
              "      <th>TJ_CREDITO</th>\n",
              "      <td>0</td>\n",
              "    </tr>\n",
              "    <tr>\n",
              "      <th>PLAZOS_FIJOS</th>\n",
              "      <td>0</td>\n",
              "    </tr>\n",
              "    <tr>\n",
              "      <th>CTA_CTE</th>\n",
              "      <td>0</td>\n",
              "    </tr>\n",
              "    <tr>\n",
              "      <th>CAJA_AHORRO</th>\n",
              "      <td>0</td>\n",
              "    </tr>\n",
              "    <tr>\n",
              "      <th>Rango_Edad_Nuevo</th>\n",
              "      <td>0</td>\n",
              "    </tr>\n",
              "    <tr>\n",
              "      <th>Segmentacion_Carteras</th>\n",
              "      <td>26334</td>\n",
              "    </tr>\n",
              "    <tr>\n",
              "      <th>GÉNERO</th>\n",
              "      <td>11</td>\n",
              "    </tr>\n",
              "    <tr>\n",
              "      <th>Segmento_Tarjeta</th>\n",
              "      <td>809871</td>\n",
              "    </tr>\n",
              "    <tr>\n",
              "      <th>IND_DIGITAL</th>\n",
              "      <td>0</td>\n",
              "    </tr>\n",
              "    <tr>\n",
              "      <th>ULTIMO_USO</th>\n",
              "      <td>3876</td>\n",
              "    </tr>\n",
              "    <tr>\n",
              "      <th>SALDO_DEUDOR</th>\n",
              "      <td>0</td>\n",
              "    </tr>\n",
              "  </tbody>\n",
              "</table>\n",
              "</div><br><label><b>dtype:</b> int64</label>"
            ]
          },
          "metadata": {},
          "execution_count": 25
        }
      ]
    },
    {
      "cell_type": "markdown",
      "source": [
        "Se observa que hay valores faltantes en columnas como Segmentacion_carteras, segmento_tarjeta y ultimo_uso. Se dejarán o imputarán según necesidad del análisis."
      ],
      "metadata": {
        "id": "WiXeQ7u6bZwC"
      }
    },
    {
      "cell_type": "code",
      "source": [
        "import seaborn as sns\n",
        "import matplotlib.pyplot as plt"
      ],
      "metadata": {
        "id": "8OQXuFRLgyQr"
      },
      "execution_count": 27,
      "outputs": []
    },
    {
      "cell_type": "markdown",
      "source": [
        "Distribución de Clientes por Género\n"
      ],
      "metadata": {
        "id": "aQXj1Q6BifEV"
      }
    },
    {
      "cell_type": "code",
      "source": [
        "import matplotlib.pyplot as plt\n",
        "df_genero = df.groupby('GÉNERO')['CANTIDAD_CLIENTES'].sum()\n",
        "plt.figure(figsize=(6,6))\n",
        "plt.pie(\n",
        "    df_genero,\n",
        "    labels=df_genero.index,\n",
        "    autopct='%1.1f%%',\n",
        "    startangle=90,\n",
        "    wedgeprops={'edgecolor': 'w'} # separa las porciones\n",
        ")\n",
        "plt.title(\"Distribución de Clientes por Género\")\n",
        "plt.axis('equal')\n",
        "plt.show()\n",
        "\n"
      ],
      "metadata": {
        "id": "EPPpAHVlmsLw",
        "outputId": "0bda5140-111d-4c79-d7a0-b52247706b8a",
        "colab": {
          "base_uri": "https://localhost:8080/",
          "height": 521
        }
      },
      "execution_count": 37,
      "outputs": [
        {
          "output_type": "display_data",
          "data": {
            "text/plain": [
              "<Figure size 600x600 with 1 Axes>"
            ],
            "image/png": "[encoded data removed]"
          },
          "metadata": {}
        }
      ]
    },
    {
      "cell_type": "markdown",
      "source": [
        "La distribucion de clientes es bastante equitativa entre mujeres y hombres, pero predomina el genero femenino. Por otro lado  hay un porcentaje que no llega al 1% que no se identifica con los generos tradicionales."
      ],
      "metadata": {
        "id": "s_pvQwd7qFl8"
      }
    },
    {
      "cell_type": "markdown",
      "source": [
        "LOS CLIENTES SEGUN RANGO ETARIO"
      ],
      "metadata": {
        "id": "yplCEzj2nctG"
      }
    },
    {
      "cell_type": "code",
      "source": [
        "import seaborn as sns\n",
        "\n",
        "\n",
        "df_edad = df.groupby('Rango_Edad_Nuevo')['CANTIDAD_CLIENTES'].sum().reset_index()\n",
        "orden_rangos = df_edad.sort_values('Rango_Edad_Nuevo')['Rango_Edad_Nuevo']\n",
        "\n",
        "plt.figure(figsize=(16,9))\n",
        "sns.barplot(x='Rango_Edad_Nuevo', y='CANTIDAD_CLIENTES', hue= 'Rango_Edad_Nuevo', data=df_edad, order=orden_rangos, palette= 'viridis')\n",
        "plt.title(\"Cantidad de Clientes por Rango de Edad\")\n",
        "plt.xlabel(\"Rango de Edad\")\n",
        "plt.ylabel(\"Cantidad de Clientes\")\n",
        "plt.xticks(rotation=45)\n",
        "plt.tight_layout()\n",
        "\n",
        "\n",
        "plt.show()\n"
      ],
      "metadata": {
        "id": "0j8AH2rlnq9x",
        "outputId": "1561bc46-07d8-4a03-a46a-edd5d590c290",
        "colab": {
          "base_uri": "https://localhost:8080/",
          "height": 641
        }
      },
      "execution_count": 36,
      "outputs": [
        {
          "output_type": "display_data",
          "data": {
            "text/plain": [
              "<Figure size 1600x900 with 1 Axes>"
            ],
            "image/png": "[encoded data removed]"
          },
          "metadata": {}
        }
      ]
    },
    {
      "cell_type": "markdown",
      "source": [
        "Los clientes bancarizados son mayoritariamente jovenes."
      ],
      "metadata": {
        "id": "w_bHL5NRq5z_"
      }
    }
  ]
}