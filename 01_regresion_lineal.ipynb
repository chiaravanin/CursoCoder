{
  "cells": [
    {
      "cell_type": "markdown",
      "metadata": {
        "id": "view-in-github",
        "colab_type": "text"
      },
      "source": [
        "<a href=\"https://colab.research.google.com/github/chiaravanin/CursoCoder/blob/main/01_regresion_lineal.ipynb\" target=\"_parent\"><img src=\"https://colab.research.google.com/assets/colab-badge.svg\" alt=\"Open In Colab\"/></a>"
      ]
    },
    {
      "cell_type": "markdown",
      "id": "2803e73e",
      "metadata": {
        "id": "2803e73e"
      },
      "source": [
        "## Regresión lineal supervisada:\n",
        "\n",
        "### 1. **Regresión Lineal Simple**\n",
        "\n",
        "* **Qué es**: Relaciona una sola variable independiente $X$ con la variable dependiente $y$.\n",
        "  Ejemplo: predecir el precio de una casa usando únicamente los metros cuadrados.\n",
        "* **Cuándo usarla**:\n",
        "\n",
        "  * Si tienes **una única feature**.\n",
        "  * Cuando quieras interpretar fácilmente la pendiente e intercepto.\n",
        "* **Afectación por outliers**: Muy sensible 🚨, porque un valor extremo puede “inclinar” la recta hacia él.\n",
        "\n",
        "---\n",
        "\n",
        "### 2. **Regresión Lineal Múltiple**\n",
        "\n",
        "* **Qué es**: Usa varias variables independientes para explicar el target.\n",
        "  Ejemplo: predecir el precio de una casa usando metros cuadrados, número de habitaciones, ubicación, etc.\n",
        "* **Cuándo usarla**:\n",
        "\n",
        "  * Cuando el fenómeno depende de **varios factores**.\n",
        "  * Si quieres un modelo más explicativo y no solo predictivo.\n",
        "* **Afectación por outliers**: También sensible 🚨, ya que los valores extremos en alguna variable pueden distorsionar los coeficientes.\n",
        "\n",
        "---\n",
        "\n",
        "### 3. **Regresión Ridge (L2 Regularization)**\n",
        "\n",
        "* **Qué es**: Variante de la lineal múltiple con una penalización al tamaño de los coeficientes ($\\lambda \\sum \\beta^2$).\n",
        "* **Cuándo usarla**:\n",
        "\n",
        "  * Si tienes **muchas variables** y riesgo de *multicolinealidad*.\n",
        "  * Cuando quieres evitar sobreajuste.\n",
        "* **Afectación por outliers**: Sigue siendo sensible 🚨, aunque la regularización reduce un poco el impacto.\n",
        "\n",
        "---\n",
        "\n",
        "### 4. **Regresión Lasso (L1 Regularization)**\n",
        "\n",
        "* **Qué es**: Similar a Ridge, pero la penalización es la suma de los valores absolutos ($\\lambda \\sum |\\beta|$). Esto hace que algunos coeficientes puedan ser exactamente **0** → selecciona variables.\n",
        "* **Cuándo usarla**:\n",
        "\n",
        "  * Cuando quieres hacer **selección de features**.\n",
        "  * Útil si sospechas que solo algunas variables son realmente importantes.\n",
        "* **Afectación por outliers**: Aún sensible, pero algo más robusta que la lineal simple/múltiple.\n",
        "\n",
        "---\n",
        "\n",
        "### 5. **Regresión Elastic Net**\n",
        "\n",
        "* **Qué es**: Combinación de Lasso y Ridge.\n",
        "* **Cuándo usarla**:\n",
        "\n",
        "  * Cuando tienes **muchas variables correlacionadas** y además quieres **selección de features**.\n",
        "  * Más flexible que usar solo Ridge o solo Lasso.\n",
        "* **Afectación por outliers**: Sigue siendo sensible, aunque la regularización ayuda a mitigar un poco el efecto.\n",
        "\n",
        "---\n",
        "\n",
        "### 6. **Regresión Robusta**\n",
        "\n",
        "* **Qué es**: Métodos como **RANSAC**, **Huber Regressor**, **Theil-Sen**. Están diseñados para ser menos sensibles a los outliers.\n",
        "* **Cuándo usarla**:\n",
        "\n",
        "  * Cuando sabes que en tus datos hay outliers inevitables (errores de medición, datos muy ruidosos).\n",
        "  * Cuando los métodos lineales clásicos “se tuercen” mucho con pocos valores extremos.\n",
        "* **Afectación por outliers**: Mucho más **robusta ✅**, ignoran o reducen el peso de los valores extremos.\n",
        "\n",
        "---\n",
        "\n",
        "## 🔹 Resumen visual (qué usar y sensibilidad a outliers)\n",
        "\n",
        "| Modelo                  | Cuándo usarlo                                       | Sensibilidad a outliers      |\n",
        "| ----------------------- | --------------------------------------------------- | ---------------------------- |\n",
        "| Lineal simple           | 1 variable                                          | 🚨 Alta                      |\n",
        "| Lineal múltiple         | Varias variables                                    | 🚨 Alta                      |\n",
        "| Ridge                   | Evitar sobreajuste, multicolinealidad               | 🚨 Alta                      |\n",
        "| Lasso                   | Selección de variables                              | 🚨 Alta (pero algo mitigada) |\n",
        "| Elastic Net             | Mix Ridge + Lasso, muchas variables correlacionadas | 🚨 Alta                      |\n",
        "| Robusta (RANSAC, Huber) | Datos con outliers                                  | ✅ Baja                       |\n",
        "\n",
        "---\n",
        "\n",
        "Conclusion:\n",
        "\n",
        "* Si tu dataset está **limpio, sin outliers fuertes** → usa lineal simple/múltiple o con regularización (Ridge, Lasso, Elastic Net).\n",
        "* Si tu dataset **tiene outliers inevitables** → considera **RANSAC, Huber o Theil-Sen**.\n"
      ]
    },
    {
      "cell_type": "markdown",
      "id": "1738ae52",
      "metadata": {
        "id": "1738ae52"
      },
      "source": [
        "---\n"
      ]
    },
    {
      "cell_type": "markdown",
      "id": "950ce971",
      "metadata": {
        "id": "950ce971"
      },
      "source": [
        "## Vamos a hacer un ejemplo de regresion simple con LASSO"
      ]
    },
    {
      "cell_type": "markdown",
      "id": "7b099825",
      "metadata": {
        "id": "7b099825"
      },
      "source": [
        "# Análisis de Autos Usados\n",
        "\n",
        "## ¿Qué es Lasso?\n",
        "\n",
        "**Lasso (Least Absolute Shrinkage and Selection Operator)** es una técnica de regularización utilizada en modelos de regresión lineal. Su principal objetivo es **prevenir el sobreajuste** (*overfitting*) y **mejorar la interpretabilidad** del modelo, ya que puede reducir algunos coeficientes exactamente a cero. Esto permite que el modelo use solo las variables más relevantes.\n",
        "\n",
        "---\n",
        "\n",
        "## ¿En qué consiste?\n",
        "\n",
        "Lasso agrega una penalización basada en la suma de los valores absolutos de los coeficientes al término de pérdida del modelo.\n",
        "\n",
        "La función de costo se expresa de la siguiente manera:\n",
        "\n",
        "$$\n",
        "\\text{Costo}_{Lasso} = \\sum_{i=1}^{n}(y_i - \\hat{y}_i)^2 + \\lambda \\sum_{j=1}^{p}|\\beta_j|\n",
        "$$\n",
        "\n",
        "Donde:\n",
        "\n",
        "* $y_i$: valor real.\n",
        "* $\\hat{y}_i$: valor predicho.\n",
        "* $\\beta_j$: coeficientes del modelo.\n",
        "* $\\lambda$: parámetro de regularización (controla la penalización).\n",
        "* $n$: número de muestras.\n",
        "* $p$: número de características (features).\n",
        "\n",
        "El parámetro $\\lambda$ es clave:\n",
        "\n",
        "* Si $\\lambda = 0$, el modelo se comporta como una regresión lineal normal.\n",
        "* Si $\\lambda$ aumenta, más coeficientes tienden a reducirse a cero.\n",
        "\n",
        "---\n",
        "\n",
        "## ¿Qué es la “matriz de Lasso”?\n",
        "\n",
        "En sentido estricto, no existe una matriz especial llamada “matriz de Lasso”.\n",
        "Lo que sí se utiliza en el entrenamiento es:\n",
        "\n",
        "1. **La matriz de características (X):** contiene los datos de entrada, de tamaño $(n \\times p)$.\n",
        "2. **El vector de salida (y):** contiene los valores que se quieren predecir.\n",
        "3. **El modelo Lasso:** que encuentra los coeficientes $\\beta$ resolviendo un problema de optimización regularizado.\n",
        "\n",
        "Por lo tanto, cuando se habla de la “matriz de Lasso”, normalmente se hace referencia de forma informal a la **matriz de diseño (X)**, que es la base para ajustar el modelo.\n",
        "\n",
        "---\n",
        "\n",
        "## Ventajas de Lasso\n",
        "\n",
        "* Realiza **selección automática de variables**, eliminando aquellas menos relevantes.\n",
        "* Produce modelos más simples y fáciles de interpretar.\n",
        "* Ayuda a **controlar el sobreajuste**, especialmente cuando hay muchas variables o cuando algunas están muy correlacionadas.\n",
        "\n",
        "---\n",
        "\n",
        "## Cuándo usar Lasso\n",
        "\n",
        "* Cuando se sospecha que muchas variables no aportan información útil.\n",
        "* Cuando se busca un modelo con menos variables y más fácil de interpretar.\n",
        "* En casos con **más características que observaciones**, o cuando existe **multicolinealidad** entre las variables.\n"
      ]
    },
    {
      "cell_type": "code",
      "execution_count": 1,
      "id": "b097bfff",
      "metadata": {
        "id": "b097bfff"
      },
      "outputs": [],
      "source": [
        "import pandas as pd\n",
        "import matplotlib.pyplot as plt\n",
        "import seaborn as sns\n",
        "from sklearn.model_selection import train_test_split\n",
        "from sklearn.linear_model import LinearRegression\n",
        "from sklearn.linear_model import Lasso\n",
        "from sklearn import metrics\n",
        "import warnings\n",
        "warnings.simplefilter(action='ignore', category=Warning)"
      ]
    },
    {
      "cell_type": "code",
      "execution_count": 4,
      "id": "9e5b026d",
      "metadata": {
        "colab": {
          "base_uri": "https://localhost:8080/",
          "height": 206
        },
        "id": "9e5b026d",
        "outputId": "c958ba40-43bf-4215-fbeb-063c398c7ce3"
      },
      "outputs": [
        {
          "output_type": "execute_result",
          "data": {
            "text/plain": [
              "  Car_Name  Year  Selling_Price  Present_Price  Kms_Driven Fuel_Type  \\\n",
              "0     ritz  2014           3.35           5.59       27000    Petrol   \n",
              "1      sx4  2013           4.75           9.54       43000    Diesel   \n",
              "2     ciaz  2017           7.25           9.85        6900    Petrol   \n",
              "3  wagon r  2011           2.85           4.15        5200    Petrol   \n",
              "4    swift  2014           4.60           6.87       42450    Diesel   \n",
              "\n",
              "  Seller_Type Transmission  Owner  \n",
              "0      Dealer       Manual      0  \n",
              "1      Dealer       Manual      0  \n",
              "2      Dealer       Manual      0  \n",
              "3      Dealer       Manual      0  \n",
              "4      Dealer       Manual      0  "
            ],
            "text/html": [
              "\n",
              "  <div id=\"df-47ffe1a2-1367-4f4d-aa75-b70038730c51\" class=\"colab-df-container\">\n",
              "    <div>\n",
              "<style scoped>\n",
              "    .dataframe tbody tr th:only-of-type {\n",
              "        vertical-align: middle;\n",
              "    }\n",
              "\n",
              "    .dataframe tbody tr th {\n",
              "        vertical-align: top;\n",
              "    }\n",
              "\n",
              "    .dataframe thead th {\n",
              "        text-align: right;\n",
              "    }\n",
              "</style>\n",
              "<table border=\"1\" class=\"dataframe\">\n",
              "  <thead>\n",
              "    <tr style=\"text-align: right;\">\n",
              "      <th></th>\n",
              "      <th>Car_Name</th>\n",
              "      <th>Year</th>\n",
              "      <th>Selling_Price</th>\n",
              "      <th>Present_Price</th>\n",
              "      <th>Kms_Driven</th>\n",
              "      <th>Fuel_Type</th>\n",
              "      <th>Seller_Type</th>\n",
              "      <th>Transmission</th>\n",
              "      <th>Owner</th>\n",
              "    </tr>\n",
              "  </thead>\n",
              "  <tbody>\n",
              "    <tr>\n",
              "      <th>0</th>\n",
              "      <td>ritz</td>\n",
              "      <td>2014</td>\n",
              "      <td>3.35</td>\n",
              "      <td>5.59</td>\n",
              "      <td>27000</td>\n",
              "      <td>Petrol</td>\n",
              "      <td>Dealer</td>\n",
              "      <td>Manual</td>\n",
              "      <td>0</td>\n",
              "    </tr>\n",
              "    <tr>\n",
              "      <th>1</th>\n",
              "      <td>sx4</td>\n",
              "      <td>2013</td>\n",
              "      <td>4.75</td>\n",
              "      <td>9.54</td>\n",
              "      <td>43000</td>\n",
              "      <td>Diesel</td>\n",
              "      <td>Dealer</td>\n",
              "      <td>Manual</td>\n",
              "      <td>0</td>\n",
              "    </tr>\n",
              "    <tr>\n",
              "      <th>2</th>\n",
              "      <td>ciaz</td>\n",
              "      <td>2017</td>\n",
              "      <td>7.25</td>\n",
              "      <td>9.85</td>\n",
              "      <td>6900</td>\n",
              "      <td>Petrol</td>\n",
              "      <td>Dealer</td>\n",
              "      <td>Manual</td>\n",
              "      <td>0</td>\n",
              "    </tr>\n",
              "    <tr>\n",
              "      <th>3</th>\n",
              "      <td>wagon r</td>\n",
              "      <td>2011</td>\n",
              "      <td>2.85</td>\n",
              "      <td>4.15</td>\n",
              "      <td>5200</td>\n",
              "      <td>Petrol</td>\n",
              "      <td>Dealer</td>\n",
              "      <td>Manual</td>\n",
              "      <td>0</td>\n",
              "    </tr>\n",
              "    <tr>\n",
              "      <th>4</th>\n",
              "      <td>swift</td>\n",
              "      <td>2014</td>\n",
              "      <td>4.60</td>\n",
              "      <td>6.87</td>\n",
              "      <td>42450</td>\n",
              "      <td>Diesel</td>\n",
              "      <td>Dealer</td>\n",
              "      <td>Manual</td>\n",
              "      <td>0</td>\n",
              "    </tr>\n",
              "  </tbody>\n",
              "</table>\n",
              "</div>\n",
              "    <div class=\"colab-df-buttons\">\n",
              "\n",
              "  <div class=\"colab-df-container\">\n",
              "    <button class=\"colab-df-convert\" onclick=\"convertToInteractive('df-47ffe1a2-1367-4f4d-aa75-b70038730c51')\"\n",
              "            title=\"Convert this dataframe to an interactive table.\"\n",
              "            style=\"display:none;\">\n",
              "\n",
              "  <svg xmlns=\"http://www.w3.org/2000/svg\" height=\"24px\" viewBox=\"0 -960 960 960\">\n",
              "    <path d=\"M120-120v-720h720v720H120Zm60-500h600v-160H180v160Zm220 220h160v-160H400v160Zm0 220h160v-160H400v160ZM180-400h160v-160H180v160Zm440 0h160v-160H620v160ZM180-180h160v-160H180v160Zm440 0h160v-160H620v160Z\"/>\n",
              "  </svg>\n",
              "    </button>\n",
              "\n",
              "  <style>\n",
              "    .colab-df-container {\n",
              "      display:flex;\n",
              "      gap: 12px;\n",
              "    }\n",
              "\n",
              "    .colab-df-convert {\n",
              "      background-color: #E8F0FE;\n",
              "      border: none;\n",
              "      border-radius: 50%;\n",
              "      cursor: pointer;\n",
              "      display: none;\n",
              "      fill: #1967D2;\n",
              "      height: 32px;\n",
              "      padding: 0 0 0 0;\n",
              "      width: 32px;\n",
              "    }\n",
              "\n",
              "    .colab-df-convert:hover {\n",
              "      background-color: #E2EBFA;\n",
              "      box-shadow: 0px 1px 2px rgba(60, 64, 67, 0.3), 0px 1px 3px 1px rgba(60, 64, 67, 0.15);\n",
              "      fill: #174EA6;\n",
              "    }\n",
              "\n",
              "    .colab-df-buttons div {\n",
              "      margin-bottom: 4px;\n",
              "    }\n",
              "\n",
              "    [theme=dark] .colab-df-convert {\n",
              "      background-color: #3B4455;\n",
              "      fill: #D2E3FC;\n",
              "    }\n",
              "\n",
              "    [theme=dark] .colab-df-convert:hover {\n",
              "      background-color: #434B5C;\n",
              "      box-shadow: 0px 1px 3px 1px rgba(0, 0, 0, 0.15);\n",
              "      filter: drop-shadow(0px 1px 2px rgba(0, 0, 0, 0.3));\n",
              "      fill: #FFFFFF;\n",
              "    }\n",
              "  </style>\n",
              "\n",
              "    <script>\n",
              "      const buttonEl =\n",
              "        document.querySelector('#df-47ffe1a2-1367-4f4d-aa75-b70038730c51 button.colab-df-convert');\n",
              "      buttonEl.style.display =\n",
              "        google.colab.kernel.accessAllowed ? 'block' : 'none';\n",
              "\n",
              "      async function convertToInteractive(key) {\n",
              "        const element = document.querySelector('#df-47ffe1a2-1367-4f4d-aa75-b70038730c51');\n",
              "        const dataTable =\n",
              "          await google.colab.kernel.invokeFunction('convertToInteractive',\n",
              "                                                    [key], {});\n",
              "        if (!dataTable) return;\n",
              "\n",
              "        const docLinkHtml = 'Like what you see? Visit the ' +\n",
              "          '<a target=\"_blank\" href=https://colab.research.google.com/notebooks/data_table.ipynb>data table notebook</a>'\n",
              "          + ' to learn more about interactive tables.';\n",
              "        element.innerHTML = '';\n",
              "        dataTable['output_type'] = 'display_data';\n",
              "        await google.colab.output.renderOutput(dataTable, element);\n",
              "        const docLink = document.createElement('div');\n",
              "        docLink.innerHTML = docLinkHtml;\n",
              "        element.appendChild(docLink);\n",
              "      }\n",
              "    </script>\n",
              "  </div>\n",
              "\n",
              "\n",
              "    <div id=\"df-7fb000f5-4579-4b52-b30e-e362ec9a6184\">\n",
              "      <button class=\"colab-df-quickchart\" onclick=\"quickchart('df-7fb000f5-4579-4b52-b30e-e362ec9a6184')\"\n",
              "                title=\"Suggest charts\"\n",
              "                style=\"display:none;\">\n",
              "\n",
              "<svg xmlns=\"http://www.w3.org/2000/svg\" height=\"24px\"viewBox=\"0 0 24 24\"\n",
              "     width=\"24px\">\n",
              "    <g>\n",
              "        <path d=\"M19 3H5c-1.1 0-2 .9-2 2v14c0 1.1.9 2 2 2h14c1.1 0 2-.9 2-2V5c0-1.1-.9-2-2-2zM9 17H7v-7h2v7zm4 0h-2V7h2v10zm4 0h-2v-4h2v4z\"/>\n",
              "    </g>\n",
              "</svg>\n",
              "      </button>\n",
              "\n",
              "<style>\n",
              "  .colab-df-quickchart {\n",
              "      --bg-color: #E8F0FE;\n",
              "      --fill-color: #1967D2;\n",
              "      --hover-bg-color: #E2EBFA;\n",
              "      --hover-fill-color: #174EA6;\n",
              "      --disabled-fill-color: #AAA;\n",
              "      --disabled-bg-color: #DDD;\n",
              "  }\n",
              "\n",
              "  [theme=dark] .colab-df-quickchart {\n",
              "      --bg-color: #3B4455;\n",
              "      --fill-color: #D2E3FC;\n",
              "      --hover-bg-color: #434B5C;\n",
              "      --hover-fill-color: #FFFFFF;\n",
              "      --disabled-bg-color: #3B4455;\n",
              "      --disabled-fill-color: #666;\n",
              "  }\n",
              "\n",
              "  .colab-df-quickchart {\n",
              "    background-color: var(--bg-color);\n",
              "    border: none;\n",
              "    border-radius: 50%;\n",
              "    cursor: pointer;\n",
              "    display: none;\n",
              "    fill: var(--fill-color);\n",
              "    height: 32px;\n",
              "    padding: 0;\n",
              "    width: 32px;\n",
              "  }\n",
              "\n",
              "  .colab-df-quickchart:hover {\n",
              "    background-color: var(--hover-bg-color);\n",
              "    box-shadow: 0 1px 2px rgba(60, 64, 67, 0.3), 0 1px 3px 1px rgba(60, 64, 67, 0.15);\n",
              "    fill: var(--button-hover-fill-color);\n",
              "  }\n",
              "\n",
              "  .colab-df-quickchart-complete:disabled,\n",
              "  .colab-df-quickchart-complete:disabled:hover {\n",
              "    background-color: var(--disabled-bg-color);\n",
              "    fill: var(--disabled-fill-color);\n",
              "    box-shadow: none;\n",
              "  }\n",
              "\n",
              "  .colab-df-spinner {\n",
              "    border: 2px solid var(--fill-color);\n",
              "    border-color: transparent;\n",
              "    border-bottom-color: var(--fill-color);\n",
              "    animation:\n",
              "      spin 1s steps(1) infinite;\n",
              "  }\n",
              "\n",
              "  @keyframes spin {\n",
              "    0% {\n",
              "      border-color: transparent;\n",
              "      border-bottom-color: var(--fill-color);\n",
              "      border-left-color: var(--fill-color);\n",
              "    }\n",
              "    20% {\n",
              "      border-color: transparent;\n",
              "      border-left-color: var(--fill-color);\n",
              "      border-top-color: var(--fill-color);\n",
              "    }\n",
              "    30% {\n",
              "      border-color: transparent;\n",
              "      border-left-color: var(--fill-color);\n",
              "      border-top-color: var(--fill-color);\n",
              "      border-right-color: var(--fill-color);\n",
              "    }\n",
              "    40% {\n",
              "      border-color: transparent;\n",
              "      border-right-color: var(--fill-color);\n",
              "      border-top-color: var(--fill-color);\n",
              "    }\n",
              "    60% {\n",
              "      border-color: transparent;\n",
              "      border-right-color: var(--fill-color);\n",
              "    }\n",
              "    80% {\n",
              "      border-color: transparent;\n",
              "      border-right-color: var(--fill-color);\n",
              "      border-bottom-color: var(--fill-color);\n",
              "    }\n",
              "    90% {\n",
              "      border-color: transparent;\n",
              "      border-bottom-color: var(--fill-color);\n",
              "    }\n",
              "  }\n",
              "</style>\n",
              "\n",
              "      <script>\n",
              "        async function quickchart(key) {\n",
              "          const quickchartButtonEl =\n",
              "            document.querySelector('#' + key + ' button');\n",
              "          quickchartButtonEl.disabled = true;  // To prevent multiple clicks.\n",
              "          quickchartButtonEl.classList.add('colab-df-spinner');\n",
              "          try {\n",
              "            const charts = await google.colab.kernel.invokeFunction(\n",
              "                'suggestCharts', [key], {});\n",
              "          } catch (error) {\n",
              "            console.error('Error during call to suggestCharts:', error);\n",
              "          }\n",
              "          quickchartButtonEl.classList.remove('colab-df-spinner');\n",
              "          quickchartButtonEl.classList.add('colab-df-quickchart-complete');\n",
              "        }\n",
              "        (() => {\n",
              "          let quickchartButtonEl =\n",
              "            document.querySelector('#df-7fb000f5-4579-4b52-b30e-e362ec9a6184 button');\n",
              "          quickchartButtonEl.style.display =\n",
              "            google.colab.kernel.accessAllowed ? 'block' : 'none';\n",
              "        })();\n",
              "      </script>\n",
              "    </div>\n",
              "\n",
              "    </div>\n",
              "  </div>\n"
            ],
            "application/vnd.google.colaboratory.intrinsic+json": {
              "type": "dataframe",
              "variable_name": "df",
              "summary": "{\n  \"name\": \"df\",\n  \"rows\": 301,\n  \"fields\": [\n    {\n      \"column\": \"Car_Name\",\n      \"properties\": {\n        \"dtype\": \"category\",\n        \"num_unique_values\": 98,\n        \"samples\": [\n          \"Hero Passion Pro\",\n          \"Honda CB Hornet 160R\",\n          \"city\"\n        ],\n        \"semantic_type\": \"\",\n        \"description\": \"\"\n      }\n    },\n    {\n      \"column\": \"Year\",\n      \"properties\": {\n        \"dtype\": \"number\",\n        \"std\": 2,\n        \"min\": 2003,\n        \"max\": 2018,\n        \"num_unique_values\": 16,\n        \"samples\": [\n          2014,\n          2013,\n          2015\n        ],\n        \"semantic_type\": \"\",\n        \"description\": \"\"\n      }\n    },\n    {\n      \"column\": \"Selling_Price\",\n      \"properties\": {\n        \"dtype\": \"number\",\n        \"std\": 5.082811556177804,\n        \"min\": 0.1,\n        \"max\": 35.0,\n        \"num_unique_values\": 156,\n        \"samples\": [\n          0.4,\n          7.05,\n          0.9\n        ],\n        \"semantic_type\": \"\",\n        \"description\": \"\"\n      }\n    },\n    {\n      \"column\": \"Present_Price\",\n      \"properties\": {\n        \"dtype\": \"number\",\n        \"std\": 8.644115402015785,\n        \"min\": 0.32,\n        \"max\": 92.6,\n        \"num_unique_values\": 147,\n        \"samples\": [\n          7.6,\n          36.23,\n          11.8\n        ],\n        \"semantic_type\": \"\",\n        \"description\": \"\"\n      }\n    },\n    {\n      \"column\": \"Kms_Driven\",\n      \"properties\": {\n        \"dtype\": \"number\",\n        \"std\": 38886,\n        \"min\": 500,\n        \"max\": 500000,\n        \"num_unique_values\": 206,\n        \"samples\": [\n          41678,\n          42367,\n          60076\n        ],\n        \"semantic_type\": \"\",\n        \"description\": \"\"\n      }\n    },\n    {\n      \"column\": \"Fuel_Type\",\n      \"properties\": {\n        \"dtype\": \"category\",\n        \"num_unique_values\": 3,\n        \"samples\": [\n          \"Petrol\",\n          \"Diesel\",\n          \"CNG\"\n        ],\n        \"semantic_type\": \"\",\n        \"description\": \"\"\n      }\n    },\n    {\n      \"column\": \"Seller_Type\",\n      \"properties\": {\n        \"dtype\": \"category\",\n        \"num_unique_values\": 2,\n        \"samples\": [\n          \"Individual\",\n          \"Dealer\"\n        ],\n        \"semantic_type\": \"\",\n        \"description\": \"\"\n      }\n    },\n    {\n      \"column\": \"Transmission\",\n      \"properties\": {\n        \"dtype\": \"category\",\n        \"num_unique_values\": 2,\n        \"samples\": [\n          \"Automatic\",\n          \"Manual\"\n        ],\n        \"semantic_type\": \"\",\n        \"description\": \"\"\n      }\n    },\n    {\n      \"column\": \"Owner\",\n      \"properties\": {\n        \"dtype\": \"number\",\n        \"std\": 0,\n        \"min\": 0,\n        \"max\": 3,\n        \"num_unique_values\": 3,\n        \"samples\": [\n          0,\n          1\n        ],\n        \"semantic_type\": \"\",\n        \"description\": \"\"\n      }\n    }\n  ]\n}"
            }
          },
          "metadata": {},
          "execution_count": 4
        }
      ],
      "source": [
        "#df = pd.read_csv(r\"./datasets/car_data.csv\")\n",
        "df= pd.read_csv(r'https://docs.google.com/spreadsheets/d/e/2PACX-1vR29whDmIIZPFVH2yRZ8DlenGuO-esZmjGBPpKMo-1lhA3JLpaA9SrlGTiKvUSyFRsYC6_h_dQQqe4q/pub?gid=0&single=true&output=csv')\n",
        "df_raw = df.copy()\n",
        "df.head()"
      ]
    },
    {
      "cell_type": "code",
      "execution_count": 5,
      "id": "dbf51d44",
      "metadata": {
        "colab": {
          "base_uri": "https://localhost:8080/"
        },
        "id": "dbf51d44",
        "outputId": "7f261abd-ce83-4b9f-fd1f-0263bdc4f7d8"
      },
      "outputs": [
        {
          "output_type": "stream",
          "name": "stdout",
          "text": [
            "<class 'pandas.core.frame.DataFrame'>\n",
            "RangeIndex: 301 entries, 0 to 300\n",
            "Data columns (total 9 columns):\n",
            " #   Column         Non-Null Count  Dtype  \n",
            "---  ------         --------------  -----  \n",
            " 0   Car_Name       301 non-null    object \n",
            " 1   Year           301 non-null    int64  \n",
            " 2   Selling_Price  301 non-null    float64\n",
            " 3   Present_Price  301 non-null    float64\n",
            " 4   Kms_Driven     301 non-null    int64  \n",
            " 5   Fuel_Type      301 non-null    object \n",
            " 6   Seller_Type    301 non-null    object \n",
            " 7   Transmission   301 non-null    object \n",
            " 8   Owner          301 non-null    int64  \n",
            "dtypes: float64(2), int64(3), object(4)\n",
            "memory usage: 21.3+ KB\n"
          ]
        }
      ],
      "source": [
        "df.info()"
      ]
    },
    {
      "cell_type": "code",
      "execution_count": 6,
      "id": "e4174a13",
      "metadata": {
        "colab": {
          "base_uri": "https://localhost:8080/"
        },
        "id": "e4174a13",
        "outputId": "cd512360-8e64-4264-a449-22dc70d58021"
      },
      "outputs": [
        {
          "output_type": "stream",
          "name": "stdout",
          "text": [
            "Fuel_Type\n",
            "Petrol    239\n",
            "Diesel     60\n",
            "CNG         2\n",
            "Name: count, dtype: int64\n",
            "Seller_Type\n",
            "Dealer        195\n",
            "Individual    106\n",
            "Name: count, dtype: int64\n",
            "Transmission\n",
            "Manual       261\n",
            "Automatic     40\n",
            "Name: count, dtype: int64\n"
          ]
        }
      ],
      "source": [
        "print(df.Fuel_Type.value_counts())\n",
        "print(df.Seller_Type.value_counts())\n",
        "print(df.Transmission.value_counts())"
      ]
    },
    {
      "cell_type": "code",
      "execution_count": null,
      "id": "1c4eeddf",
      "metadata": {
        "id": "1c4eeddf"
      },
      "outputs": [],
      "source": [
        "# encoding \"Fuel_Type\" Column\n",
        "df.replace({'Fuel_Type':{'Petrol':0,'Diesel':1,'CNG':2}},inplace=True)\n",
        "\n",
        "# encoding \"Seller_Type\" Column\n",
        "df.replace({'Seller_Type':{'Dealer':0,'Individual':1}},inplace=True)\n",
        "\n",
        "# encoding \"Transmission\" Column\n",
        "df.replace({'Transmission':{'Manual':0,'Automatic':1}},inplace=True)"
      ]
    },
    {
      "cell_type": "code",
      "execution_count": null,
      "id": "fdf72bf4",
      "metadata": {
        "id": "fdf72bf4"
      },
      "outputs": [],
      "source": [
        "df.head()"
      ]
    },
    {
      "cell_type": "code",
      "execution_count": null,
      "id": "102e41c2",
      "metadata": {
        "id": "102e41c2"
      },
      "outputs": [],
      "source": [
        "X = df.drop(['Car_Name','Selling_Price'],axis=1)\n",
        "Y = df['Selling_Price']"
      ]
    },
    {
      "cell_type": "code",
      "execution_count": null,
      "id": "6870935e",
      "metadata": {
        "id": "6870935e"
      },
      "outputs": [],
      "source": [
        "X_train, X_test, Y_train, Y_test = train_test_split(X, Y, test_size = 0.1, random_state=2)\n"
      ]
    },
    {
      "cell_type": "markdown",
      "id": "04369a64",
      "metadata": {
        "id": "04369a64"
      },
      "source": [
        "stats OLS"
      ]
    },
    {
      "cell_type": "code",
      "execution_count": null,
      "id": "20eb015b",
      "metadata": {
        "id": "20eb015b"
      },
      "outputs": [],
      "source": [
        "import statsmodels.api as sm\n",
        "\n",
        "X_intercepto = sm.add_constant(X_train)  # Intercepto + variables numéricas\n",
        "model_sm = sm.OLS(Y_train.astype(float), X_intercepto).fit()  # Asegurar que 'y' también sea float\n"
      ]
    },
    {
      "cell_type": "code",
      "execution_count": null,
      "id": "5e40e095",
      "metadata": {
        "id": "5e40e095"
      },
      "outputs": [],
      "source": [
        "print(model_sm.summary())"
      ]
    },
    {
      "cell_type": "markdown",
      "id": "438d8c43",
      "metadata": {
        "id": "438d8c43"
      },
      "source": [
        "## Trainning -> Regression Lineal"
      ]
    },
    {
      "cell_type": "code",
      "execution_count": null,
      "id": "eef7c5f4",
      "metadata": {
        "id": "eef7c5f4"
      },
      "outputs": [],
      "source": [
        "lin_reg_model = LinearRegression()"
      ]
    },
    {
      "cell_type": "code",
      "execution_count": null,
      "id": "65812d1b",
      "metadata": {
        "id": "65812d1b"
      },
      "outputs": [],
      "source": [
        "lin_reg_model.fit(X_train,Y_train)"
      ]
    },
    {
      "cell_type": "code",
      "execution_count": null,
      "id": "2a98b4b3",
      "metadata": {
        "id": "2a98b4b3"
      },
      "outputs": [],
      "source": [
        "training_data_prediction = lin_reg_model.predict(X_train)"
      ]
    },
    {
      "cell_type": "code",
      "execution_count": null,
      "id": "0e4462ea",
      "metadata": {
        "id": "0e4462ea"
      },
      "outputs": [],
      "source": [
        "error_score = metrics.r2_score(Y_train, training_data_prediction)\n",
        "print(\"R squared Error : \", error_score)"
      ]
    },
    {
      "cell_type": "code",
      "execution_count": null,
      "id": "887c3e12",
      "metadata": {
        "id": "887c3e12"
      },
      "outputs": [],
      "source": [
        "plt.scatter(Y_train, training_data_prediction)\n",
        "plt.xlabel(\"Precio Real\")\n",
        "plt.ylabel(\"Precio Predicho\")\n",
        "plt.title(\"Precios Reales vs Precios Predichos\")\n",
        "plt.show()"
      ]
    },
    {
      "cell_type": "markdown",
      "id": "03abae82",
      "metadata": {
        "id": "03abae82"
      },
      "source": [
        "## Testing -> Regresion Lineal"
      ]
    },
    {
      "cell_type": "code",
      "execution_count": null,
      "id": "16b866b3",
      "metadata": {
        "id": "16b866b3"
      },
      "outputs": [],
      "source": [
        "test_data_prediction = lin_reg_model.predict(X_test)\n"
      ]
    },
    {
      "cell_type": "code",
      "execution_count": null,
      "id": "13c76b7a",
      "metadata": {
        "id": "13c76b7a"
      },
      "outputs": [],
      "source": [
        "error_score = metrics.r2_score(Y_test, test_data_prediction)\n",
        "print(\"R squared Error : \", error_score)"
      ]
    },
    {
      "cell_type": "code",
      "execution_count": null,
      "id": "0985ab76",
      "metadata": {
        "id": "0985ab76"
      },
      "outputs": [],
      "source": [
        "plt.scatter(Y_test, test_data_prediction)\n",
        "plt.xlabel(\"Precio Real\")\n",
        "plt.ylabel(\"Precio Predicho\")\n",
        "plt.title(\"Precios Reales vs Precios Predichos\")\n",
        "plt.show()"
      ]
    },
    {
      "cell_type": "code",
      "execution_count": null,
      "id": "7152d204",
      "metadata": {
        "id": "7152d204"
      },
      "outputs": [],
      "source": [
        "import numpy as np\n",
        "import pandas as pd\n",
        "from sklearn.linear_model import LinearRegression\n",
        "from sklearn.metrics import mean_squared_error, r2_score\n",
        "from scipy import stats\n",
        "\n",
        "def regression_summary(model, X, y, feature_names=None):\n",
        "    \"\"\"\n",
        "    Genera un resumen tipo statsmodels para modelos lineales de scikit-learn.\n",
        "    \"\"\"\n",
        "    # Predicciones\n",
        "    y_pred = model.predict(X)\n",
        "\n",
        "    # Número de observaciones y variables\n",
        "    n = X.shape[0]\n",
        "    p = X.shape[1]\n",
        "\n",
        "    # Error residual\n",
        "    residuals = y - y_pred\n",
        "    RSS = np.sum(residuals ** 2)\n",
        "    MSE = RSS / (n - p - 1)\n",
        "\n",
        "    # Matriz de diseño (agregamos intercepto)\n",
        "    X_design = np.column_stack([np.ones(n), X])\n",
        "\n",
        "    # Varianza de los coeficientes\n",
        "    var_beta = MSE * np.linalg.inv(X_design.T @ X_design).diagonal()\n",
        "    std_err = np.sqrt(var_beta)\n",
        "\n",
        "    # Coeficientes (incluyendo intercepto)\n",
        "    coef = np.insert(model.coef_, 0, model.intercept_)\n",
        "\n",
        "    # Estadístico t y p-values\n",
        "    t_stats = coef / std_err\n",
        "    p_values = [2 * (1 - stats.t.cdf(np.abs(t), df=n - p - 1)) for t in t_stats]\n",
        "\n",
        "    # Intervalos de confianza\n",
        "    conf_int_low = coef - 1.96 * std_err\n",
        "    conf_int_high = coef + 1.96 * std_err\n",
        "\n",
        "    # Nombres de las variables\n",
        "    if feature_names is None:\n",
        "        feature_names = [f\"x{i}\" for i in range(1, p + 1)]\n",
        "    feature_names = [\"Intercept\"] + feature_names\n",
        "\n",
        "    # Construir DataFrame resumen\n",
        "    summary_df = pd.DataFrame({\n",
        "        \"Coef\": coef,\n",
        "        \"Std Err\": std_err,\n",
        "        \"t\": t_stats,\n",
        "        \"P>|t|\": p_values,\n",
        "        \"[0.025\": conf_int_low,\n",
        "        \"0.975]\": conf_int_high\n",
        "    }, index=feature_names)\n",
        "\n",
        "    # R² y métricas globales\n",
        "    r2 = r2_score(y, y_pred)\n",
        "    rmse = np.sqrt(mean_squared_error(y, y_pred))\n",
        "\n",
        "    print(\"\\nResumen de Regresión\")\n",
        "    print(\"============================================\")\n",
        "    print(f\"Observaciones: {n}\")\n",
        "    print(f\"Variables: {p}\")\n",
        "    print(f\"R²: {r2:.4f}\")\n",
        "    print(f\"RMSE: {rmse:.4f}\")\n",
        "    print(summary_df)\n",
        ""
      ]
    },
    {
      "cell_type": "code",
      "execution_count": null,
      "id": "334c23eb",
      "metadata": {
        "id": "334c23eb"
      },
      "outputs": [],
      "source": [
        "regression_summary(lin_reg_model, X_train, Y_train, feature_names=X.columns.tolist())"
      ]
    },
    {
      "cell_type": "markdown",
      "id": "0961d0b4",
      "metadata": {
        "id": "0961d0b4"
      },
      "source": [
        "## Lasso"
      ]
    },
    {
      "cell_type": "code",
      "execution_count": null,
      "id": "1d80222a",
      "metadata": {
        "id": "1d80222a"
      },
      "outputs": [],
      "source": [
        "lass_reg_model = Lasso()\n"
      ]
    },
    {
      "cell_type": "code",
      "execution_count": null,
      "id": "1552b485",
      "metadata": {
        "id": "1552b485"
      },
      "outputs": [],
      "source": [
        "lass_reg_model.fit(X_train,Y_train)\n"
      ]
    },
    {
      "cell_type": "code",
      "execution_count": null,
      "id": "5e714f43",
      "metadata": {
        "id": "5e714f43"
      },
      "outputs": [],
      "source": [
        "training_data_prediction = lass_reg_model.predict(X_train)"
      ]
    },
    {
      "cell_type": "code",
      "execution_count": null,
      "id": "81d1433e",
      "metadata": {
        "id": "81d1433e"
      },
      "outputs": [],
      "source": [
        "error_score = metrics.r2_score(Y_train, training_data_prediction)\n",
        "print(\"R squared Error : \", error_score)"
      ]
    },
    {
      "cell_type": "code",
      "execution_count": null,
      "id": "1b3c0a69",
      "metadata": {
        "id": "1b3c0a69"
      },
      "outputs": [],
      "source": [
        "plt.scatter(Y_train, training_data_prediction)\n",
        "plt.xlabel(\"Precio Real\")\n",
        "plt.ylabel(\"Precio Predicho\")\n",
        "plt.title(\"Precios Reales vs Precios Predichos\")\n",
        "plt.show()"
      ]
    },
    {
      "cell_type": "code",
      "execution_count": null,
      "id": "8e1180d3",
      "metadata": {
        "id": "8e1180d3"
      },
      "outputs": [],
      "source": [
        "test_data_prediction = lass_reg_model.predict(X_test)\n"
      ]
    },
    {
      "cell_type": "code",
      "execution_count": null,
      "id": "145e4d40",
      "metadata": {
        "id": "145e4d40"
      },
      "outputs": [],
      "source": [
        "\n",
        "error_score = metrics.r2_score(Y_test, test_data_prediction)\n",
        "print(\"R squared Error : \", error_score)"
      ]
    },
    {
      "cell_type": "code",
      "execution_count": null,
      "id": "2c53a2c5",
      "metadata": {
        "id": "2c53a2c5"
      },
      "outputs": [],
      "source": [
        "plt.scatter(Y_test, test_data_prediction)\n",
        "plt.xlabel(\"Precio Real\")\n",
        "plt.ylabel(\"Precio Predicho\")\n",
        "plt.title(\"Precios Reales vs Precios Predichos\")\n",
        "plt.show()"
      ]
    },
    {
      "cell_type": "code",
      "execution_count": null,
      "id": "704f85c3",
      "metadata": {
        "id": "704f85c3"
      },
      "outputs": [],
      "source": [
        "regression_summary(lass_reg_model, X_train, Y_train, feature_names=X.columns.tolist())"
      ]
    },
    {
      "cell_type": "markdown",
      "id": "60b2b34e",
      "metadata": {
        "id": "60b2b34e"
      },
      "source": [
        "##  **Modelo 1: Regresión Lineal**\n",
        "\n",
        "* **R² = 0.8799** → el modelo explica \\~88% de la variabilidad en el precio.\n",
        "* **RMSE = 1.8053** → error promedio bastante bajo.\n",
        "* Todas las variables (excepto quizás `Kms_Driven` y `Owner`) tienen **coeficientes distintos de cero** y con cierta significancia estadística.\n",
        "* `Fuel_Type`, `Seller_Type`, `Transmission` y `Owner` parecen aportar algo de información.\n",
        "\n",
        "---\n",
        "\n",
        "##  **Modelo 2: Lasso**\n",
        "\n",
        "* **R² = 0.8428** → explica un poco menos (\\~84%).\n",
        "* **RMSE = 2.0659** → el error es un poco mayor.\n",
        "* Muchos coeficientes quedaron en **cero exacto**:\n",
        "\n",
        "  * `Fuel_Type`, `Seller_Type`, `Transmission`, `Owner` fueron eliminados.\n",
        "* En la práctica, Lasso se quedó con lo “esencial”: `Year`, `Present_Price`, y (en menor medida) `Kms_Driven`.\n",
        "\n",
        "---\n",
        "\n",
        "##  **¿Cuál conviene?**\n",
        "\n",
        "Depende del objetivo:\n",
        "\n",
        "1. **Si querés máxima capacidad predictiva (menor error):**\n",
        "   → Te conviene la **Regresión Lineal OLS** (porque tiene mejor R² y menor RMSE).\n",
        "\n",
        "2. **Si querés simplicidad e interpretabilidad (modelo más “limpio” con menos variables):**\n",
        "   → Te conviene el **Lasso**, porque elimina automáticamente variables con poco aporte.\n",
        "\n",
        "3. **Si hay riesgo de sobreajuste (overfitting):**\n",
        "\n",
        "   * OLS puede sobreajustar si tenés muchas variables correlacionadas.\n",
        "   * Lasso reduce ese riesgo al forzar algunos coeficientes a cero.\n",
        "\n",
        "---\n",
        "\n",
        "## Recomendación práctica\n",
        "\n",
        "* Probá con **validación cruzada** (`cross_val_score` en `scikit-learn`) para medir el desempeño real fuera de la muestra.\n",
        "* Si la diferencia de error entre OLS y Lasso no es grande, **quédate con Lasso**, porque el modelo es más sencillo y generaliza mejor.\n",
        "* Si necesitás máxima precisión en tu dataset actual y no te importa la complejidad, **quédate con OLS**."
      ]
    },
    {
      "cell_type": "code",
      "execution_count": null,
      "id": "bddc5f4a",
      "metadata": {
        "id": "bddc5f4a"
      },
      "outputs": [],
      "source": []
    }
  ],
  "metadata": {
    "kernelspec": {
      "display_name": "77695-data-science-i-flex",
      "language": "python",
      "name": "python3"
    },
    "language_info": {
      "codemirror_mode": {
        "name": "ipython",
        "version": 3
      },
      "file_extension": ".py",
      "mimetype": "text/x-python",
      "name": "python",
      "nbconvert_exporter": "python",
      "pygments_lexer": "ipython3",
      "version": "3.11.13"
    },
    "colab": {
      "provenance": [],
      "include_colab_link": true
    }
  },
  "nbformat": 4,
  "nbformat_minor": 5
}